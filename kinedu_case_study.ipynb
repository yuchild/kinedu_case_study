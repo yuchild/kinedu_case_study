{
 "cells": [
  {
   "cell_type": "code",
   "execution_count": 1,
   "metadata": {},
   "outputs": [],
   "source": [
    "import pandas as pd\n",
    "import numpy as np\n",
    "import matplotlib.pyplot as plt\n",
    "plt.style.use('fivethirtyeight')\n",
    "plt.rcParams['figure.figsize'] = (8, 7)\n",
    "plt.rcParams['font.size'] = 12"
   ]
  },
  {
   "cell_type": "code",
   "execution_count": 2,
   "metadata": {},
   "outputs": [
    {
     "data": {
      "text/plain": [
       "(39, 33)"
      ]
     },
     "execution_count": 2,
     "metadata": {},
     "output_type": "execute_result"
    }
   ],
   "source": [
    "df = pd.read_csv('reports_influencers_merge_cleaned.csv')\n",
    "df.shape"
   ]
  },
  {
   "cell_type": "code",
   "execution_count": 3,
   "metadata": {},
   "outputs": [
    {
     "data": {
      "text/html": [
       "<div>\n",
       "<style scoped>\n",
       "    .dataframe tbody tr th:only-of-type {\n",
       "        vertical-align: middle;\n",
       "    }\n",
       "\n",
       "    .dataframe tbody tr th {\n",
       "        vertical-align: top;\n",
       "    }\n",
       "\n",
       "    .dataframe thead th {\n",
       "        text-align: right;\n",
       "    }\n",
       "</style>\n",
       "<table border=\"1\" class=\"dataframe\">\n",
       "  <thead>\n",
       "    <tr style=\"text-align: right;\">\n",
       "      <th></th>\n",
       "      <th>Unnamed: 0</th>\n",
       "      <th>IG Handle</th>\n",
       "      <th>click_count</th>\n",
       "      <th>install_count</th>\n",
       "      <th>conversion_rate</th>\n",
       "      <th>top_perform</th>\n",
       "      <th>Country</th>\n",
       "      <th>#F/IG</th>\n",
       "      <th>%ER</th>\n",
       "      <th>%13-17</th>\n",
       "      <th>...</th>\n",
       "      <th>Top2_Cntr_%</th>\n",
       "      <th>Top3_Cntr</th>\n",
       "      <th>Top3_Cntr_%</th>\n",
       "      <th>Top1_City</th>\n",
       "      <th>Top1_City_%</th>\n",
       "      <th>Top2_City</th>\n",
       "      <th>Top2_City_%</th>\n",
       "      <th>Top3_City</th>\n",
       "      <th>Top3_City_%</th>\n",
       "      <th>Credible Followers</th>\n",
       "    </tr>\n",
       "  </thead>\n",
       "  <tbody>\n",
       "    <tr>\n",
       "      <th>0</th>\n",
       "      <td>0</td>\n",
       "      <td>fitteacherrachel</td>\n",
       "      <td>345</td>\n",
       "      <td>128</td>\n",
       "      <td>0.371014</td>\n",
       "      <td>1</td>\n",
       "      <td>California, United States</td>\n",
       "      <td>24697.0</td>\n",
       "      <td>0.033162</td>\n",
       "      <td>0.026030</td>\n",
       "      <td>...</td>\n",
       "      <td>0.043866</td>\n",
       "      <td>United Kingdom</td>\n",
       "      <td>0.035316</td>\n",
       "      <td>Los Angeles</td>\n",
       "      <td>0.018216</td>\n",
       "      <td>New York City</td>\n",
       "      <td>0.015613</td>\n",
       "      <td>Chicago</td>\n",
       "      <td>0.010781</td>\n",
       "      <td>19752.66060</td>\n",
       "    </tr>\n",
       "    <tr>\n",
       "      <th>1</th>\n",
       "      <td>1</td>\n",
       "      <td>ardenmcartrette</td>\n",
       "      <td>154</td>\n",
       "      <td>72</td>\n",
       "      <td>0.467532</td>\n",
       "      <td>1</td>\n",
       "      <td>California, United States</td>\n",
       "      <td>16132.0</td>\n",
       "      <td>0.143380</td>\n",
       "      <td>0.028785</td>\n",
       "      <td>...</td>\n",
       "      <td>0.089804</td>\n",
       "      <td>Canada</td>\n",
       "      <td>0.062442</td>\n",
       "      <td>Los Angeles</td>\n",
       "      <td>0.022451</td>\n",
       "      <td>London</td>\n",
       "      <td>0.020580</td>\n",
       "      <td>New York City</td>\n",
       "      <td>0.015903</td>\n",
       "      <td>14514.44436</td>\n",
       "    </tr>\n",
       "    <tr>\n",
       "      <th>2</th>\n",
       "      <td>2</td>\n",
       "      <td>carolrojas7</td>\n",
       "      <td>230</td>\n",
       "      <td>58</td>\n",
       "      <td>0.252174</td>\n",
       "      <td>1</td>\n",
       "      <td>New York, United States</td>\n",
       "      <td>13437.0</td>\n",
       "      <td>0.073007</td>\n",
       "      <td>0.022607</td>\n",
       "      <td>...</td>\n",
       "      <td>0.332206</td>\n",
       "      <td>Mexico</td>\n",
       "      <td>0.012847</td>\n",
       "      <td>New York City</td>\n",
       "      <td>0.266622</td>\n",
       "      <td>Santo Domingo</td>\n",
       "      <td>0.065134</td>\n",
       "      <td>Santiago de los Caballeros</td>\n",
       "      <td>0.052738</td>\n",
       "      <td>10406.95650</td>\n",
       "    </tr>\n",
       "  </tbody>\n",
       "</table>\n",
       "<p>3 rows × 33 columns</p>\n",
       "</div>"
      ],
      "text/plain": [
       "   Unnamed: 0         IG Handle  click_count  install_count  conversion_rate  \\\n",
       "0           0  fitteacherrachel          345            128         0.371014   \n",
       "1           1   ardenmcartrette          154             72         0.467532   \n",
       "2           2       carolrojas7          230             58         0.252174   \n",
       "\n",
       "   top_perform                    Country    #F/IG       %ER    %13-17  ...  \\\n",
       "0            1  California, United States  24697.0  0.033162  0.026030  ...   \n",
       "1            1  California, United States  16132.0  0.143380  0.028785  ...   \n",
       "2            1    New York, United States  13437.0  0.073007  0.022607  ...   \n",
       "\n",
       "   Top2_Cntr_%       Top3_Cntr  Top3_Cntr_%      Top1_City  Top1_City_%  \\\n",
       "0     0.043866  United Kingdom     0.035316    Los Angeles     0.018216   \n",
       "1     0.089804          Canada     0.062442    Los Angeles     0.022451   \n",
       "2     0.332206          Mexico     0.012847  New York City     0.266622   \n",
       "\n",
       "       Top2_City  Top2_City_%                   Top3_City  Top3_City_%  \\\n",
       "0  New York City     0.015613                     Chicago     0.010781   \n",
       "1         London     0.020580               New York City     0.015903   \n",
       "2  Santo Domingo     0.065134  Santiago de los Caballeros     0.052738   \n",
       "\n",
       "  Credible Followers  \n",
       "0        19752.66060  \n",
       "1        14514.44436  \n",
       "2        10406.95650  \n",
       "\n",
       "[3 rows x 33 columns]"
      ]
     },
     "execution_count": 3,
     "metadata": {},
     "output_type": "execute_result"
    }
   ],
   "source": [
    "df.head(3)"
   ]
  },
  {
   "cell_type": "code",
   "execution_count": 4,
   "metadata": {},
   "outputs": [],
   "source": [
    "df_cols = df.columns.to_list()"
   ]
  },
  {
   "cell_type": "code",
   "execution_count": 5,
   "metadata": {},
   "outputs": [
    {
     "data": {
      "text/plain": [
       "['Unnamed: 0',\n",
       " 'IG Handle',\n",
       " 'click_count',\n",
       " 'install_count',\n",
       " 'conversion_rate',\n",
       " 'top_perform',\n",
       " 'Country',\n",
       " '#F/IG',\n",
       " '%ER',\n",
       " '%13-17',\n",
       " '%18-24',\n",
       " '%25-34',\n",
       " '%35-44',\n",
       " '%Male',\n",
       " '%Female',\n",
       " 'Content Vertical/ Interest',\n",
       " '%Foll Credibility',\n",
       " 'Avg likes',\n",
       " 'Avg comments',\n",
       " 'Contacts',\n",
       " 'Top1_Cntr',\n",
       " 'Top1_Cntr_%',\n",
       " 'Top2_Cntr',\n",
       " 'Top2_Cntr_%',\n",
       " 'Top3_Cntr',\n",
       " 'Top3_Cntr_%',\n",
       " 'Top1_City',\n",
       " 'Top1_City_%',\n",
       " 'Top2_City',\n",
       " 'Top2_City_%',\n",
       " 'Top3_City',\n",
       " 'Top3_City_%',\n",
       " 'Credible Followers']"
      ]
     },
     "execution_count": 5,
     "metadata": {},
     "output_type": "execute_result"
    }
   ],
   "source": [
    "df_cols"
   ]
  },
  {
   "cell_type": "code",
   "execution_count": 6,
   "metadata": {},
   "outputs": [
    {
     "data": {
      "text/html": [
       "<div>\n",
       "<style scoped>\n",
       "    .dataframe tbody tr th:only-of-type {\n",
       "        vertical-align: middle;\n",
       "    }\n",
       "\n",
       "    .dataframe tbody tr th {\n",
       "        vertical-align: top;\n",
       "    }\n",
       "\n",
       "    .dataframe thead th {\n",
       "        text-align: right;\n",
       "    }\n",
       "</style>\n",
       "<table border=\"1\" class=\"dataframe\">\n",
       "  <thead>\n",
       "    <tr style=\"text-align: right;\">\n",
       "      <th></th>\n",
       "      <th>count</th>\n",
       "      <th>mean</th>\n",
       "      <th>std</th>\n",
       "      <th>min</th>\n",
       "      <th>25%</th>\n",
       "      <th>50%</th>\n",
       "      <th>75%</th>\n",
       "      <th>max</th>\n",
       "    </tr>\n",
       "  </thead>\n",
       "  <tbody>\n",
       "    <tr>\n",
       "      <th>Unnamed: 0</th>\n",
       "      <td>39.0</td>\n",
       "      <td>26.358974</td>\n",
       "      <td>22.727779</td>\n",
       "      <td>0.000000</td>\n",
       "      <td>9.500000</td>\n",
       "      <td>20.000000</td>\n",
       "      <td>34.500000</td>\n",
       "      <td>84.000000</td>\n",
       "    </tr>\n",
       "    <tr>\n",
       "      <th>click_count</th>\n",
       "      <td>39.0</td>\n",
       "      <td>56.974359</td>\n",
       "      <td>64.134927</td>\n",
       "      <td>2.000000</td>\n",
       "      <td>22.000000</td>\n",
       "      <td>42.000000</td>\n",
       "      <td>63.500000</td>\n",
       "      <td>345.000000</td>\n",
       "    </tr>\n",
       "    <tr>\n",
       "      <th>install_count</th>\n",
       "      <td>39.0</td>\n",
       "      <td>10.846154</td>\n",
       "      <td>24.787028</td>\n",
       "      <td>0.000000</td>\n",
       "      <td>1.000000</td>\n",
       "      <td>2.000000</td>\n",
       "      <td>6.500000</td>\n",
       "      <td>128.000000</td>\n",
       "    </tr>\n",
       "    <tr>\n",
       "      <th>conversion_rate</th>\n",
       "      <td>39.0</td>\n",
       "      <td>0.116163</td>\n",
       "      <td>0.139738</td>\n",
       "      <td>0.000000</td>\n",
       "      <td>0.024892</td>\n",
       "      <td>0.050000</td>\n",
       "      <td>0.142857</td>\n",
       "      <td>0.500000</td>\n",
       "    </tr>\n",
       "    <tr>\n",
       "      <th>top_perform</th>\n",
       "      <td>39.0</td>\n",
       "      <td>0.358974</td>\n",
       "      <td>0.485971</td>\n",
       "      <td>0.000000</td>\n",
       "      <td>0.000000</td>\n",
       "      <td>0.000000</td>\n",
       "      <td>1.000000</td>\n",
       "      <td>1.000000</td>\n",
       "    </tr>\n",
       "    <tr>\n",
       "      <th>#F/IG</th>\n",
       "      <td>39.0</td>\n",
       "      <td>28627.153846</td>\n",
       "      <td>20085.277494</td>\n",
       "      <td>10204.000000</td>\n",
       "      <td>12825.500000</td>\n",
       "      <td>23200.000000</td>\n",
       "      <td>36162.000000</td>\n",
       "      <td>88086.000000</td>\n",
       "    </tr>\n",
       "    <tr>\n",
       "      <th>%ER</th>\n",
       "      <td>39.0</td>\n",
       "      <td>0.060524</td>\n",
       "      <td>0.042679</td>\n",
       "      <td>0.010162</td>\n",
       "      <td>0.031810</td>\n",
       "      <td>0.050381</td>\n",
       "      <td>0.087858</td>\n",
       "      <td>0.190011</td>\n",
       "    </tr>\n",
       "    <tr>\n",
       "      <th>%13-17</th>\n",
       "      <td>39.0</td>\n",
       "      <td>0.049362</td>\n",
       "      <td>0.029804</td>\n",
       "      <td>0.016016</td>\n",
       "      <td>0.028764</td>\n",
       "      <td>0.040793</td>\n",
       "      <td>0.062820</td>\n",
       "      <td>0.158806</td>\n",
       "    </tr>\n",
       "    <tr>\n",
       "      <th>%18-24</th>\n",
       "      <td>39.0</td>\n",
       "      <td>0.308964</td>\n",
       "      <td>0.108168</td>\n",
       "      <td>0.114131</td>\n",
       "      <td>0.255288</td>\n",
       "      <td>0.299463</td>\n",
       "      <td>0.354998</td>\n",
       "      <td>0.640268</td>\n",
       "    </tr>\n",
       "    <tr>\n",
       "      <th>%25-34</th>\n",
       "      <td>39.0</td>\n",
       "      <td>0.426281</td>\n",
       "      <td>0.073744</td>\n",
       "      <td>0.188382</td>\n",
       "      <td>0.405325</td>\n",
       "      <td>0.429203</td>\n",
       "      <td>0.470019</td>\n",
       "      <td>0.556783</td>\n",
       "    </tr>\n",
       "    <tr>\n",
       "      <th>%35-44</th>\n",
       "      <td>39.0</td>\n",
       "      <td>0.162201</td>\n",
       "      <td>0.060989</td>\n",
       "      <td>0.017624</td>\n",
       "      <td>0.136864</td>\n",
       "      <td>0.158634</td>\n",
       "      <td>0.200161</td>\n",
       "      <td>0.291245</td>\n",
       "    </tr>\n",
       "    <tr>\n",
       "      <th>%Male</th>\n",
       "      <td>39.0</td>\n",
       "      <td>0.189134</td>\n",
       "      <td>0.152726</td>\n",
       "      <td>0.031839</td>\n",
       "      <td>0.096458</td>\n",
       "      <td>0.128579</td>\n",
       "      <td>0.192340</td>\n",
       "      <td>0.599630</td>\n",
       "    </tr>\n",
       "    <tr>\n",
       "      <th>%Female</th>\n",
       "      <td>39.0</td>\n",
       "      <td>0.810866</td>\n",
       "      <td>0.152726</td>\n",
       "      <td>0.400370</td>\n",
       "      <td>0.807659</td>\n",
       "      <td>0.871421</td>\n",
       "      <td>0.903542</td>\n",
       "      <td>0.968161</td>\n",
       "    </tr>\n",
       "    <tr>\n",
       "      <th>%Foll Credibility</th>\n",
       "      <td>39.0</td>\n",
       "      <td>0.762950</td>\n",
       "      <td>0.145679</td>\n",
       "      <td>0.339000</td>\n",
       "      <td>0.747250</td>\n",
       "      <td>0.787672</td>\n",
       "      <td>0.851750</td>\n",
       "      <td>0.944499</td>\n",
       "    </tr>\n",
       "    <tr>\n",
       "      <th>Avg likes</th>\n",
       "      <td>39.0</td>\n",
       "      <td>1449.179487</td>\n",
       "      <td>1449.531247</td>\n",
       "      <td>171.000000</td>\n",
       "      <td>665.000000</td>\n",
       "      <td>931.000000</td>\n",
       "      <td>1442.500000</td>\n",
       "      <td>6419.000000</td>\n",
       "    </tr>\n",
       "    <tr>\n",
       "      <th>Avg comments</th>\n",
       "      <td>39.0</td>\n",
       "      <td>65.179487</td>\n",
       "      <td>47.959891</td>\n",
       "      <td>9.000000</td>\n",
       "      <td>30.500000</td>\n",
       "      <td>56.000000</td>\n",
       "      <td>89.500000</td>\n",
       "      <td>187.000000</td>\n",
       "    </tr>\n",
       "    <tr>\n",
       "      <th>Top1_Cntr_%</th>\n",
       "      <td>39.0</td>\n",
       "      <td>0.644762</td>\n",
       "      <td>0.156258</td>\n",
       "      <td>0.307218</td>\n",
       "      <td>0.514419</td>\n",
       "      <td>0.641053</td>\n",
       "      <td>0.771539</td>\n",
       "      <td>0.936123</td>\n",
       "    </tr>\n",
       "    <tr>\n",
       "      <th>Top2_Cntr_%</th>\n",
       "      <td>39.0</td>\n",
       "      <td>0.075463</td>\n",
       "      <td>0.060348</td>\n",
       "      <td>0.011990</td>\n",
       "      <td>0.041312</td>\n",
       "      <td>0.062748</td>\n",
       "      <td>0.083804</td>\n",
       "      <td>0.332206</td>\n",
       "    </tr>\n",
       "    <tr>\n",
       "      <th>Top3_Cntr_%</th>\n",
       "      <td>39.0</td>\n",
       "      <td>0.046516</td>\n",
       "      <td>0.029869</td>\n",
       "      <td>0.005695</td>\n",
       "      <td>0.025831</td>\n",
       "      <td>0.044480</td>\n",
       "      <td>0.055461</td>\n",
       "      <td>0.153866</td>\n",
       "    </tr>\n",
       "    <tr>\n",
       "      <th>Top1_City_%</th>\n",
       "      <td>39.0</td>\n",
       "      <td>0.072261</td>\n",
       "      <td>0.082205</td>\n",
       "      <td>0.018216</td>\n",
       "      <td>0.027209</td>\n",
       "      <td>0.041551</td>\n",
       "      <td>0.075820</td>\n",
       "      <td>0.415506</td>\n",
       "    </tr>\n",
       "    <tr>\n",
       "      <th>Top2_City_%</th>\n",
       "      <td>39.0</td>\n",
       "      <td>0.031739</td>\n",
       "      <td>0.019075</td>\n",
       "      <td>0.009393</td>\n",
       "      <td>0.020584</td>\n",
       "      <td>0.025465</td>\n",
       "      <td>0.036088</td>\n",
       "      <td>0.107948</td>\n",
       "    </tr>\n",
       "    <tr>\n",
       "      <th>Top3_City_%</th>\n",
       "      <td>39.0</td>\n",
       "      <td>0.020354</td>\n",
       "      <td>0.010382</td>\n",
       "      <td>0.006217</td>\n",
       "      <td>0.012823</td>\n",
       "      <td>0.017523</td>\n",
       "      <td>0.025714</td>\n",
       "      <td>0.052738</td>\n",
       "    </tr>\n",
       "    <tr>\n",
       "      <th>Credible Followers</th>\n",
       "      <td>39.0</td>\n",
       "      <td>21212.892349</td>\n",
       "      <td>14369.489033</td>\n",
       "      <td>4694.811000</td>\n",
       "      <td>10338.538050</td>\n",
       "      <td>16968.105900</td>\n",
       "      <td>25649.518000</td>\n",
       "      <td>65898.355600</td>\n",
       "    </tr>\n",
       "  </tbody>\n",
       "</table>\n",
       "</div>"
      ],
      "text/plain": [
       "                    count          mean           std           min  \\\n",
       "Unnamed: 0           39.0     26.358974     22.727779      0.000000   \n",
       "click_count          39.0     56.974359     64.134927      2.000000   \n",
       "install_count        39.0     10.846154     24.787028      0.000000   \n",
       "conversion_rate      39.0      0.116163      0.139738      0.000000   \n",
       "top_perform          39.0      0.358974      0.485971      0.000000   \n",
       "#F/IG                39.0  28627.153846  20085.277494  10204.000000   \n",
       "%ER                  39.0      0.060524      0.042679      0.010162   \n",
       "%13-17               39.0      0.049362      0.029804      0.016016   \n",
       "%18-24               39.0      0.308964      0.108168      0.114131   \n",
       "%25-34               39.0      0.426281      0.073744      0.188382   \n",
       "%35-44               39.0      0.162201      0.060989      0.017624   \n",
       "%Male                39.0      0.189134      0.152726      0.031839   \n",
       "%Female              39.0      0.810866      0.152726      0.400370   \n",
       "%Foll Credibility    39.0      0.762950      0.145679      0.339000   \n",
       "Avg likes            39.0   1449.179487   1449.531247    171.000000   \n",
       "Avg comments         39.0     65.179487     47.959891      9.000000   \n",
       "Top1_Cntr_%          39.0      0.644762      0.156258      0.307218   \n",
       "Top2_Cntr_%          39.0      0.075463      0.060348      0.011990   \n",
       "Top3_Cntr_%          39.0      0.046516      0.029869      0.005695   \n",
       "Top1_City_%          39.0      0.072261      0.082205      0.018216   \n",
       "Top2_City_%          39.0      0.031739      0.019075      0.009393   \n",
       "Top3_City_%          39.0      0.020354      0.010382      0.006217   \n",
       "Credible Followers   39.0  21212.892349  14369.489033   4694.811000   \n",
       "\n",
       "                             25%           50%           75%           max  \n",
       "Unnamed: 0              9.500000     20.000000     34.500000     84.000000  \n",
       "click_count            22.000000     42.000000     63.500000    345.000000  \n",
       "install_count           1.000000      2.000000      6.500000    128.000000  \n",
       "conversion_rate         0.024892      0.050000      0.142857      0.500000  \n",
       "top_perform             0.000000      0.000000      1.000000      1.000000  \n",
       "#F/IG               12825.500000  23200.000000  36162.000000  88086.000000  \n",
       "%ER                     0.031810      0.050381      0.087858      0.190011  \n",
       "%13-17                  0.028764      0.040793      0.062820      0.158806  \n",
       "%18-24                  0.255288      0.299463      0.354998      0.640268  \n",
       "%25-34                  0.405325      0.429203      0.470019      0.556783  \n",
       "%35-44                  0.136864      0.158634      0.200161      0.291245  \n",
       "%Male                   0.096458      0.128579      0.192340      0.599630  \n",
       "%Female                 0.807659      0.871421      0.903542      0.968161  \n",
       "%Foll Credibility       0.747250      0.787672      0.851750      0.944499  \n",
       "Avg likes             665.000000    931.000000   1442.500000   6419.000000  \n",
       "Avg comments           30.500000     56.000000     89.500000    187.000000  \n",
       "Top1_Cntr_%             0.514419      0.641053      0.771539      0.936123  \n",
       "Top2_Cntr_%             0.041312      0.062748      0.083804      0.332206  \n",
       "Top3_Cntr_%             0.025831      0.044480      0.055461      0.153866  \n",
       "Top1_City_%             0.027209      0.041551      0.075820      0.415506  \n",
       "Top2_City_%             0.020584      0.025465      0.036088      0.107948  \n",
       "Top3_City_%             0.012823      0.017523      0.025714      0.052738  \n",
       "Credible Followers  10338.538050  16968.105900  25649.518000  65898.355600  "
      ]
     },
     "execution_count": 6,
     "metadata": {},
     "output_type": "execute_result"
    }
   ],
   "source": [
    "df.describe().T"
   ]
  },
  {
   "cell_type": "code",
   "execution_count": 7,
   "metadata": {},
   "outputs": [
    {
     "data": {
      "text/plain": [
       "Index(['Unnamed: 0', 'click_count', 'install_count', 'conversion_rate',\n",
       "       'top_perform', '#F/IG', '%ER', '%13-17', '%18-24', '%25-34', '%35-44',\n",
       "       '%Male', '%Female', '%Foll Credibility', 'Avg likes', 'Avg comments',\n",
       "       'Top1_Cntr_%', 'Top2_Cntr_%', 'Top3_Cntr_%', 'Top1_City_%',\n",
       "       'Top2_City_%', 'Top3_City_%', 'Credible Followers'],\n",
       "      dtype='object')"
      ]
     },
     "execution_count": 7,
     "metadata": {},
     "output_type": "execute_result"
    }
   ],
   "source": [
    "# get columns with numeric values\n",
    "df_num_cols = df.describe().columns\n",
    "df_num_cols"
   ]
  },
  {
   "cell_type": "code",
   "execution_count": 8,
   "metadata": {},
   "outputs": [],
   "source": [
    "X = df[df_num_cols].drop(columns = ['Unnamed: 0', 'conversion_rate'])\n",
    "y = df.conversion_rate"
   ]
  },
  {
   "cell_type": "code",
   "execution_count": 9,
   "metadata": {},
   "outputs": [
    {
     "data": {
      "text/plain": [
       "Index(['click_count', 'install_count', 'top_perform', '#F/IG', '%ER', '%13-17',\n",
       "       '%18-24', '%25-34', '%35-44', '%Male', '%Female', '%Foll Credibility',\n",
       "       'Avg likes', 'Avg comments', 'Top1_Cntr_%', 'Top2_Cntr_%',\n",
       "       'Top3_Cntr_%', 'Top1_City_%', 'Top2_City_%', 'Top3_City_%',\n",
       "       'Credible Followers'],\n",
       "      dtype='object')"
      ]
     },
     "execution_count": 9,
     "metadata": {},
     "output_type": "execute_result"
    }
   ],
   "source": [
    "X.columns"
   ]
  },
  {
   "cell_type": "code",
   "execution_count": 10,
   "metadata": {},
   "outputs": [],
   "source": [
    "from sklearn.preprocessing import normalize"
   ]
  },
  {
   "cell_type": "code",
   "execution_count": 11,
   "metadata": {},
   "outputs": [],
   "source": [
    "X = normalize(X, norm = 'max')"
   ]
  },
  {
   "cell_type": "code",
   "execution_count": 12,
   "metadata": {},
   "outputs": [],
   "source": [
    "from sklearn.model_selection import train_test_split"
   ]
  },
  {
   "cell_type": "code",
   "execution_count": 13,
   "metadata": {},
   "outputs": [],
   "source": [
    "X_train, X_test, y_train, y_test = train_test_split(X, y, test_size = 0.1, random_state = 42)"
   ]
  },
  {
   "cell_type": "code",
   "execution_count": 14,
   "metadata": {},
   "outputs": [],
   "source": [
    "from sklearn.ensemble import RandomForestRegressor"
   ]
  },
  {
   "cell_type": "code",
   "execution_count": 15,
   "metadata": {},
   "outputs": [
    {
     "data": {
      "text/plain": [
       "RandomForestRegressor(bootstrap=True, ccp_alpha=0.0, criterion='mse',\n",
       "                      max_depth=None, max_features='auto', max_leaf_nodes=None,\n",
       "                      max_samples=None, min_impurity_decrease=0.0,\n",
       "                      min_impurity_split=None, min_samples_leaf=1,\n",
       "                      min_samples_split=2, min_weight_fraction_leaf=0.0,\n",
       "                      n_estimators=100, n_jobs=None, oob_score=False,\n",
       "                      random_state=None, verbose=0, warm_start=False)"
      ]
     },
     "execution_count": 15,
     "metadata": {},
     "output_type": "execute_result"
    }
   ],
   "source": [
    "rfr = RandomForestRegressor()\n",
    "rfr.fit(X_train, y_train)"
   ]
  },
  {
   "cell_type": "code",
   "execution_count": 16,
   "metadata": {},
   "outputs": [],
   "source": [
    "y_pred = rfr.predict(X_test)"
   ]
  },
  {
   "cell_type": "code",
   "execution_count": 17,
   "metadata": {},
   "outputs": [
    {
     "data": {
      "text/plain": [
       "array([0.00593583, 0.00634365, 0.26428847, 0.22761306])"
      ]
     },
     "execution_count": 17,
     "metadata": {},
     "output_type": "execute_result"
    }
   ],
   "source": [
    "y_pred"
   ]
  },
  {
   "cell_type": "code",
   "execution_count": 18,
   "metadata": {},
   "outputs": [
    {
     "data": {
      "text/plain": [
       "array([0.        , 0.        , 0.34666667, 0.14285714])"
      ]
     },
     "execution_count": 18,
     "metadata": {},
     "output_type": "execute_result"
    }
   ],
   "source": [
    "y_test.values"
   ]
  },
  {
   "cell_type": "code",
   "execution_count": 19,
   "metadata": {},
   "outputs": [
    {
     "data": {
      "text/plain": [
       "0.0035113022048348995"
      ]
     },
     "execution_count": 19,
     "metadata": {},
     "output_type": "execute_result"
    }
   ],
   "source": [
    "sum((y_test.values-y_pred)**2)/len(y_pred) # MSE"
   ]
  },
  {
   "cell_type": "code",
   "execution_count": 20,
   "metadata": {},
   "outputs": [],
   "source": [
    "from sklearn.model_selection import cross_val_score"
   ]
  },
  {
   "cell_type": "code",
   "execution_count": 21,
   "metadata": {},
   "outputs": [],
   "source": [
    "import sklearn.metrics"
   ]
  },
  {
   "cell_type": "code",
   "execution_count": 22,
   "metadata": {},
   "outputs": [
    {
     "data": {
      "text/plain": [
       "['accuracy',\n",
       " 'adjusted_mutual_info_score',\n",
       " 'adjusted_rand_score',\n",
       " 'average_precision',\n",
       " 'balanced_accuracy',\n",
       " 'completeness_score',\n",
       " 'explained_variance',\n",
       " 'f1',\n",
       " 'f1_macro',\n",
       " 'f1_micro',\n",
       " 'f1_samples',\n",
       " 'f1_weighted',\n",
       " 'fowlkes_mallows_score',\n",
       " 'homogeneity_score',\n",
       " 'jaccard',\n",
       " 'jaccard_macro',\n",
       " 'jaccard_micro',\n",
       " 'jaccard_samples',\n",
       " 'jaccard_weighted',\n",
       " 'max_error',\n",
       " 'mutual_info_score',\n",
       " 'neg_brier_score',\n",
       " 'neg_log_loss',\n",
       " 'neg_mean_absolute_error',\n",
       " 'neg_mean_gamma_deviance',\n",
       " 'neg_mean_poisson_deviance',\n",
       " 'neg_mean_squared_error',\n",
       " 'neg_mean_squared_log_error',\n",
       " 'neg_median_absolute_error',\n",
       " 'neg_root_mean_squared_error',\n",
       " 'normalized_mutual_info_score',\n",
       " 'precision',\n",
       " 'precision_macro',\n",
       " 'precision_micro',\n",
       " 'precision_samples',\n",
       " 'precision_weighted',\n",
       " 'r2',\n",
       " 'recall',\n",
       " 'recall_macro',\n",
       " 'recall_micro',\n",
       " 'recall_samples',\n",
       " 'recall_weighted',\n",
       " 'roc_auc',\n",
       " 'roc_auc_ovo',\n",
       " 'roc_auc_ovo_weighted',\n",
       " 'roc_auc_ovr',\n",
       " 'roc_auc_ovr_weighted',\n",
       " 'v_measure_score']"
      ]
     },
     "execution_count": 22,
     "metadata": {},
     "output_type": "execute_result"
    }
   ],
   "source": [
    "sorted(sklearn.metrics.SCORERS.keys())"
   ]
  },
  {
   "cell_type": "code",
   "execution_count": 23,
   "metadata": {},
   "outputs": [
    {
     "data": {
      "text/plain": [
       "array([0.05478905, 0.00304837, 0.00942095, 0.02812013, 0.02108776])"
      ]
     },
     "execution_count": 23,
     "metadata": {},
     "output_type": "execute_result"
    }
   ],
   "source": [
    "scores = cross_val_score(rfr, X, y, scoring='neg_mean_squared_error', cv=5)\n",
    "-scores"
   ]
  },
  {
   "cell_type": "code",
   "execution_count": null,
   "metadata": {},
   "outputs": [],
   "source": []
  }
 ],
 "metadata": {
  "kernelspec": {
   "display_name": "Python 3",
   "language": "python",
   "name": "python3"
  },
  "language_info": {
   "codemirror_mode": {
    "name": "ipython",
    "version": 3
   },
   "file_extension": ".py",
   "mimetype": "text/x-python",
   "name": "python",
   "nbconvert_exporter": "python",
   "pygments_lexer": "ipython3",
   "version": "3.7.5"
  }
 },
 "nbformat": 4,
 "nbformat_minor": 4
}
